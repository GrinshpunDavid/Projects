{
 "cells": [
  {
   "cell_type": "markdown",
   "metadata": {},
   "source": [
    "# Project description\n",
    "\n",
    "Mobile carrier Megaline want to develop a model that would analyze subscribers' behavior and recommend one of Megaline's newer plans: Smart or Ultra.\n",
    "\n",
    "The goal of this project is to develop a model that will pick the right plan based on users behavior.\n",
    "In this project, the threshold for accuracy is 0.75. Check the accuracy using the test dataset.\n",
    "\n",
    "Data description:\n",
    "- сalls, number of calls.\n",
    "- minutes, total call duration in minutes.\n",
    "- messages, number of text messages.\n",
    "- mb_used, Internet traffic used in MB.\n",
    "- is_ultra, plan for the current month (Ultra - 1, Smart - 0)."
   ]
  },
  {
   "cell_type": "code",
   "execution_count": 6,
   "metadata": {},
   "outputs": [],
   "source": [
    "import pandas as pd\n",
    "from sklearn.ensemble import RandomForestClassifier \n",
    "from sklearn.metrics import accuracy_score\n",
    "from sklearn.model_selection import train_test_split\n",
    "from joblib import dump"
   ]
  },
  {
   "cell_type": "markdown",
   "metadata": {},
   "source": [
    "#### Open and look through the data file:"
   ]
  },
  {
   "cell_type": "code",
   "execution_count": 7,
   "metadata": {
    "scrolled": false
   },
   "outputs": [
    {
     "name": "stdout",
     "output_type": "stream",
     "text": [
      "   calls  minutes  messages   mb_used  is_ultra\n",
      "0   40.0   311.90      83.0  19915.42         0\n",
      "1   85.0   516.75      56.0  22696.96         0\n",
      "2   77.0   467.66      86.0  21060.45         0\n",
      "3  106.0   745.53      81.0   8437.39         1\n",
      "4   66.0   418.74       1.0  14502.75         0\n",
      "------------------------------------------------------------------------------\n",
      "Present of missing values:\n",
      "calls       0.0\n",
      "minutes     0.0\n",
      "messages    0.0\n",
      "mb_used     0.0\n",
      "is_ultra    0.0\n",
      "dtype: float64\n",
      "------------------------------------------------------------------------------\n",
      "<class 'pandas.core.frame.DataFrame'>\n",
      "RangeIndex: 3214 entries, 0 to 3213\n",
      "Data columns (total 5 columns):\n",
      " #   Column    Non-Null Count  Dtype  \n",
      "---  ------    --------------  -----  \n",
      " 0   calls     3214 non-null   float64\n",
      " 1   minutes   3214 non-null   float64\n",
      " 2   messages  3214 non-null   float64\n",
      " 3   mb_used   3214 non-null   float64\n",
      " 4   is_ultra  3214 non-null   int64  \n",
      "dtypes: float64(4), int64(1)\n",
      "memory usage: 125.7 KB\n",
      "None\n"
     ]
    }
   ],
   "source": [
    "df = pd.read_csv('/datasets/users_behavior.csv')\n",
    "print(df.head())\n",
    "print(\"------------------------------------------------------------------------------\")\n",
    "print('Present of missing values:')\n",
    "print(round(100*df.isnull().sum()/len(df),2))\n",
    "print(\"------------------------------------------------------------------------------\")\n",
    "print(df.info())"
   ]
  },
  {
   "cell_type": "markdown",
   "metadata": {},
   "source": [
    "#### Split the source data into a training set, a validation set, and a test set:"
   ]
  },
  {
   "cell_type": "code",
   "execution_count": 8,
   "metadata": {},
   "outputs": [],
   "source": [
    "df_train, df_valid = train_test_split(df, test_size=0.5, random_state=12345)\n",
    "df_test, df_valid = train_test_split(df_valid, test_size=0.5, random_state=12345)\n",
    "\n",
    "features_train = df_train.drop(['is_ultra'], axis=1)\n",
    "target_train = df_train['is_ultra']\n",
    "\n",
    "features_valid = df_valid.drop(['is_ultra'], axis=1)\n",
    "target_valid = df_valid['is_ultra']\n",
    "\n",
    "features_test = df_test.drop(['is_ultra'], axis=1)\n",
    "target_test = df_test['is_ultra']\n",
    "\n",
    "features_all = df.drop(['is_ultra'], axis=1)\n",
    "target_all = df['is_ultra']"
   ]
  },
  {
   "cell_type": "markdown",
   "metadata": {},
   "source": [
    "#### Investigate the quality of different models by changing hyperparameters. "
   ]
  },
  {
   "cell_type": "code",
   "execution_count": 12,
   "metadata": {},
   "outputs": [],
   "source": [
    "def model_best_parameters(features_train, target_train, features_valid, target_valid, \n",
    "                          estimators = 100, depth = 15, splits = 20):\n",
    "    best_estimator = 0\n",
    "    best_depth = 0\n",
    "    best_splits = 0\n",
    "    \n",
    "    max_accuracy = 0\n",
    "    for i in range(50,estimators,5):\n",
    "        model = RandomForestClassifier(random_state=12345, n_estimators=i) \n",
    "        model.fit(features_train, target_train)\n",
    "        train_predictions = model.predict(features_valid)    \n",
    "        training_accuracy = accuracy_score(target_valid, train_predictions)\n",
    "        \n",
    "        if training_accuracy > max_accuracy:\n",
    "            max_accuracy = training_accuracy\n",
    "            best_estimator = i\n",
    "     \n",
    "    max_accuracy = 0\n",
    "    for i in range(1,depth):\n",
    "        model = RandomForestClassifier(random_state=12345, n_estimators = 30, max_depth = i) \n",
    "        model.fit(features_train, target_train)\n",
    "        train_predictions = model.predict(features_valid)    \n",
    "        training_accuracy = accuracy_score(target_valid, train_predictions)\n",
    "        \n",
    "        if training_accuracy > max_accuracy:\n",
    "            max_accuracy = training_accuracy\n",
    "            best_depth = i\n",
    "    \n",
    "    max_accuracy = 0\n",
    "    for i in range(2,splits):\n",
    "        model = RandomForestClassifier(random_state=12345, n_estimators = 30, max_depth = best_depth, min_samples_split = i) \n",
    "        model.fit(features_train, target_train)\n",
    "        train_predictions = model.predict(features_valid)    \n",
    "        training_accuracy = accuracy_score(target_valid, train_predictions)\n",
    "        \n",
    "        if training_accuracy > max_accuracy:\n",
    "            max_accuracy = training_accuracy\n",
    "            best_splits = i\n",
    "    \n",
    "    return best_estimator, best_depth, best_splits"
   ]
  },
  {
   "cell_type": "code",
   "execution_count": 13,
   "metadata": {},
   "outputs": [
    {
     "name": "stdout",
     "output_type": "stream",
     "text": [
      "Best model parameters\n",
      "n_estimators:      60\n",
      "max_depth:         7\n",
      "min_samples_split: 13\n",
      "CPU times: user 7.32 s, sys: 22 ms, total: 7.34 s\n",
      "Wall time: 7.5 s\n"
     ]
    }
   ],
   "source": [
    "%%time\n",
    "pick_estimator, pick_depth, pick_splits = model_best_parameters(features_train, target_train, features_valid, target_valid)\n",
    "print(\"Best model parameters\")\n",
    "print(\"n_estimators:     \", pick_estimator)\n",
    "print(\"max_depth:        \", pick_depth)\n",
    "print(\"min_samples_split:\", pick_splits)"
   ]
  },
  {
   "cell_type": "markdown",
   "metadata": {},
   "source": [
    "I created a function to find out the best parameters for my model."
   ]
  },
  {
   "cell_type": "markdown",
   "metadata": {},
   "source": [
    "#### Check the quality of the model using the test set:"
   ]
  },
  {
   "cell_type": "code",
   "execution_count": 14,
   "metadata": {},
   "outputs": [
    {
     "name": "stdout",
     "output_type": "stream",
     "text": [
      "Model Accuracy\n",
      "Training set: 0.8444306160547604\n",
      "Test set:     0.7920298879202988\n"
     ]
    }
   ],
   "source": [
    "model = RandomForestClassifier(random_state=12345, n_estimators = pick_estimator, max_depth = pick_depth, min_samples_split = pick_splits)\n",
    "model.fit(features_train, target_train)\n",
    "\n",
    "train_predictions = model.predict(features_train)\n",
    "test_predictions = model.predict(features_test)\n",
    "\n",
    "training_accuracy = accuracy_score(target_train, train_predictions)\n",
    "test_accuracy = accuracy_score(target_test, test_predictions)\n",
    "\n",
    "print('Model Accuracy')\n",
    "print('Training set:', training_accuracy )\n",
    "print('Test set:    ', test_accuracy )"
   ]
  },
  {
   "cell_type": "markdown",
   "metadata": {},
   "source": [
    "The model is not overfitted and its accuracy is higher than the required 0.75.\n",
    "\n",
    "#### Use chosen parameters and full dataset to train the final model:"
   ]
  },
  {
   "cell_type": "code",
   "execution_count": 15,
   "metadata": {},
   "outputs": [
    {
     "data": {
      "text/plain": [
       "['model.joblib']"
      ]
     },
     "execution_count": 15,
     "metadata": {},
     "output_type": "execute_result"
    }
   ],
   "source": [
    "model_final = RandomForestClassifier(random_state=12345, n_estimators = pick_estimator, max_depth = pick_depth, min_samples_split = pick_splits) \n",
    "model_final.fit(features_all, target_all)\n",
    "dump(model_final, 'model.joblib') "
   ]
  },
  {
   "cell_type": "markdown",
   "metadata": {},
   "source": [
    "#### conclusions\n",
    "- model accuracy is ~0.79.\n",
    "\n",
    "#### Recommendations\n",
    "- Put model in production."
   ]
  }
 ],
 "metadata": {
  "ExecuteTimeLog": [
   {
    "duration": 1361,
    "start_time": "2022-03-07T12:38:19.352Z"
   },
   {
    "duration": 1826,
    "start_time": "2022-03-07T12:38:20.716Z"
   },
   {
    "duration": 27,
    "start_time": "2022-03-07T12:38:50.613Z"
   },
   {
    "duration": 11,
    "start_time": "2022-03-07T12:40:19.503Z"
   },
   {
    "duration": 246,
    "start_time": "2022-03-07T12:40:58.833Z"
   },
   {
    "duration": 9,
    "start_time": "2022-03-07T12:41:02.682Z"
   },
   {
    "duration": 34,
    "start_time": "2022-03-07T12:42:04.253Z"
   },
   {
    "duration": 13,
    "start_time": "2022-03-07T12:45:44.992Z"
   },
   {
    "duration": 249,
    "start_time": "2022-03-07T12:52:34.764Z"
   },
   {
    "duration": 4,
    "start_time": "2022-03-07T13:11:23.187Z"
   },
   {
    "duration": 31,
    "start_time": "2022-03-07T13:11:24.377Z"
   },
   {
    "duration": 12,
    "start_time": "2022-03-07T13:11:29.207Z"
   },
   {
    "duration": 10,
    "start_time": "2022-03-07T13:11:32.108Z"
   },
   {
    "duration": 460,
    "start_time": "2022-03-07T13:11:34.417Z"
   },
   {
    "duration": 10,
    "start_time": "2022-03-07T13:11:48.778Z"
   },
   {
    "duration": 158775,
    "start_time": "2022-03-07T13:11:49.697Z"
   },
   {
    "duration": 9,
    "start_time": "2022-03-07T13:14:40.222Z"
   },
   {
    "duration": 6089,
    "start_time": "2022-03-07T13:14:43.547Z"
   },
   {
    "duration": 10,
    "start_time": "2022-03-07T13:14:58.658Z"
   },
   {
    "duration": 32876,
    "start_time": "2022-03-07T13:14:59.337Z"
   },
   {
    "duration": 9,
    "start_time": "2022-03-07T13:20:42.979Z"
   },
   {
    "duration": 75678,
    "start_time": "2022-03-07T13:20:43.838Z"
   },
   {
    "duration": 75628,
    "start_time": "2022-03-07T13:26:55.873Z"
   },
   {
    "duration": 233,
    "start_time": "2022-03-07T13:36:11.140Z"
   },
   {
    "duration": 327,
    "start_time": "2022-03-07T13:36:24.779Z"
   },
   {
    "duration": 316,
    "start_time": "2022-03-07T13:37:05.169Z"
   },
   {
    "duration": 556,
    "start_time": "2022-03-07T13:53:14.810Z"
   },
   {
    "duration": 34,
    "start_time": "2022-03-07T13:53:17.211Z"
   },
   {
    "duration": 574,
    "start_time": "2022-03-07T13:53:46.772Z"
   },
   {
    "duration": 544,
    "start_time": "2022-03-07T13:56:21.607Z"
   },
   {
    "duration": 4,
    "start_time": "2022-03-07T14:55:38.064Z"
   },
   {
    "duration": 28,
    "start_time": "2022-03-07T14:55:38.324Z"
   },
   {
    "duration": 11,
    "start_time": "2022-03-07T14:55:38.644Z"
   },
   {
    "duration": 9,
    "start_time": "2022-03-07T14:55:38.925Z"
   },
   {
    "duration": 76835,
    "start_time": "2022-03-07T14:55:39.084Z"
   },
   {
    "duration": 325,
    "start_time": "2022-03-07T14:56:55.921Z"
   },
   {
    "duration": 527,
    "start_time": "2022-03-07T14:56:56.248Z"
   },
   {
    "duration": 1151,
    "start_time": "2022-03-09T07:25:24.569Z"
   },
   {
    "duration": 41,
    "start_time": "2022-03-09T07:25:27.573Z"
   },
   {
    "duration": 9,
    "start_time": "2022-03-09T07:25:30.632Z"
   },
   {
    "duration": 9,
    "start_time": "2022-03-09T07:25:39.431Z"
   },
   {
    "duration": 4,
    "start_time": "2022-03-09T07:25:44.253Z"
   },
   {
    "duration": 8,
    "start_time": "2022-03-09T07:26:18.352Z"
   },
   {
    "duration": 4,
    "start_time": "2022-03-09T07:26:19.322Z"
   },
   {
    "duration": 10,
    "start_time": "2022-03-09T07:26:24.172Z"
   },
   {
    "duration": 5,
    "start_time": "2022-03-09T07:26:25.372Z"
   },
   {
    "duration": 4,
    "start_time": "2022-03-09T07:26:31.832Z"
   },
   {
    "duration": 10,
    "start_time": "2022-03-09T07:27:29.273Z"
   },
   {
    "duration": 4,
    "start_time": "2022-03-09T07:27:30.462Z"
   },
   {
    "duration": 4,
    "start_time": "2022-03-09T07:27:35.132Z"
   },
   {
    "duration": 4,
    "start_time": "2022-03-09T07:27:39.261Z"
   },
   {
    "duration": 11,
    "start_time": "2022-03-09T07:28:56.742Z"
   },
   {
    "duration": 1106,
    "start_time": "2022-03-09T07:32:27.817Z"
   },
   {
    "duration": 41,
    "start_time": "2022-03-09T07:32:28.925Z"
   },
   {
    "duration": 13,
    "start_time": "2022-03-09T07:32:28.969Z"
   },
   {
    "duration": 8,
    "start_time": "2022-03-09T07:32:28.984Z"
   },
   {
    "duration": 38265,
    "start_time": "2022-03-09T07:32:28.994Z"
   },
   {
    "duration": 170,
    "start_time": "2022-03-09T07:33:07.260Z"
   },
   {
    "duration": 386,
    "start_time": "2022-03-09T07:33:07.432Z"
   },
   {
    "duration": 1570,
    "start_time": "2022-04-19T13:21:15.818Z"
   },
   {
    "duration": 48,
    "start_time": "2022-04-19T13:21:18.205Z"
   },
   {
    "duration": 22,
    "start_time": "2022-04-19T13:21:35.578Z"
   },
   {
    "duration": 10,
    "start_time": "2022-04-19T13:22:34.741Z"
   },
   {
    "duration": 280,
    "start_time": "2022-04-19T13:22:36.958Z"
   },
   {
    "duration": 5,
    "start_time": "2022-04-19T13:22:41.617Z"
   },
   {
    "duration": 40,
    "start_time": "2022-04-19T13:22:42.127Z"
   },
   {
    "duration": 14,
    "start_time": "2022-04-19T13:22:43.137Z"
   },
   {
    "duration": 10,
    "start_time": "2022-04-19T13:22:44.208Z"
   },
   {
    "duration": 3643,
    "start_time": "2022-04-19T13:22:45.168Z"
   },
   {
    "duration": 282,
    "start_time": "2022-04-19T13:22:58.078Z"
   },
   {
    "duration": 13,
    "start_time": "2022-04-19T13:24:14.382Z"
   },
   {
    "duration": 7506,
    "start_time": "2022-04-19T13:24:15.209Z"
   },
   {
    "duration": 254,
    "start_time": "2022-04-19T13:24:26.669Z"
   },
   {
    "duration": 510,
    "start_time": "2022-04-19T13:24:33.668Z"
   }
  ],
  "kernelspec": {
   "display_name": "Python 3 (ipykernel)",
   "language": "python",
   "name": "python3"
  },
  "language_info": {
   "codemirror_mode": {
    "name": "ipython",
    "version": 3
   },
   "file_extension": ".py",
   "mimetype": "text/x-python",
   "name": "python",
   "nbconvert_exporter": "python",
   "pygments_lexer": "ipython3",
   "version": "3.9.5"
  },
  "toc": {
   "base_numbering": 1,
   "nav_menu": {},
   "number_sections": true,
   "sideBar": true,
   "skip_h1_title": true,
   "title_cell": "Table of Contents",
   "title_sidebar": "Contents",
   "toc_cell": false,
   "toc_position": {},
   "toc_section_display": true,
   "toc_window_display": false
  }
 },
 "nbformat": 4,
 "nbformat_minor": 2
}
